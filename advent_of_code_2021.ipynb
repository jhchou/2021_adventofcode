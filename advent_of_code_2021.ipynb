{
 "cells": [
  {
   "cell_type": "markdown",
   "metadata": {},
   "source": [
    "# Advent of Code 2021\n",
    "\n",
    "## Setup\n",
    "\n",
    "* created new repository on GitHub (public)\n",
    "* created new local folder\n",
    "\n",
    "```\n",
    "    echo \"# 2021_adventofcode\" >> README.md\n",
    "    git init\n",
    "    git add README.md\n",
    "    git commit -m \"first commit\"\n",
    "    git branch -M main\n",
    "    git remote add origin https://github.com/jhchou/2021_adventofcode.git\n",
    "    git push -u origin main\n",
    "```\n",
    "\n",
    "* `Jupyter: Create New Jupyter Notebook`\n",
    "    * selected Julia 1.6.3 for kernel\n",
    "* `Julia: Start REPL`\n",
    "    * start with empty environment\n",
    "    * `] activate .`"
   ]
  },
  {
   "cell_type": "code",
   "execution_count": 28,
   "metadata": {},
   "outputs": [
    {
     "name": "stdout",
     "output_type": "stream",
     "text": [
      "1 -- 6-10 s: snkscgszxsssscss\n",
      "2 -- 6-7 b: bbbbbxkb\n",
      "3 -- 2-4 n: nnnjn\n",
      "4 -- 1-2 j: jjjj\n",
      "5 -- 5-9 z: jgzzzqhbj\n"
     ]
    }
   ],
   "source": [
    "# https://www.geeksforgeeks.org/opening-and-reading-a-file-in-julia/\n",
    "f = open(\"test.txt\", \"r\")\n",
    "\n",
    "i = 0\n",
    "while !eof(f) && i < 5\n",
    "    line = readline(f) # or readlines(), or read() entire file into string\n",
    "    i += 1\n",
    "    println(\"$i -- $line\")\n",
    "end\n",
    "\n",
    "close(f)"
   ]
  },
  {
   "cell_type": "code",
   "execution_count": 27,
   "metadata": {},
   "outputs": [
    {
     "name": "stdout",
     "output_type": "stream",
     "text": [
      "20746 characters\n"
     ]
    }
   ],
   "source": [
    "# https://www.geeksforgeeks.org/opening-and-reading-a-file-in-julia/\n",
    "f = open(\"test.txt\", \"r\")\n",
    "file = read(f, String)\n",
    "println(\"$(length(file)) characters\")\n",
    "close(f)"
   ]
  },
  {
   "cell_type": "code",
   "execution_count": 20,
   "metadata": {},
   "outputs": [],
   "source": []
  },
  {
   "cell_type": "markdown",
   "metadata": {},
   "source": [
    "## Day 1\n",
    "\n",
    "To do this, count the number of times a depth measurement increases from the previous measurement. (There is no measurement before the first measurement.)"
   ]
  },
  {
   "cell_type": "code",
   "execution_count": 83,
   "metadata": {},
   "outputs": [
    {
     "name": "stdout",
     "output_type": "stream",
     "text": [
      "1374"
     ]
    }
   ],
   "source": [
    "lastnum = 99999999\n",
    "count = 0\n",
    "f = open(\"day1.txt\", \"r\")\n",
    "while !eof(f)\n",
    "    line = readline(f)\n",
    "    num = parse(Int, line)\n",
    "    if num > lastnum\n",
    "        count += 1\n",
    "    end\n",
    "    lastnum = num\n",
    "end\n",
    "close(f)\n",
    "print(count) # 1374"
   ]
  },
  {
   "cell_type": "markdown",
   "metadata": {},
   "source": [
    "consider sums of a three-measurement sliding window"
   ]
  },
  {
   "cell_type": "code",
   "execution_count": 84,
   "metadata": {},
   "outputs": [
    {
     "name": "stdout",
     "output_type": "stream",
     "text": [
      "1418"
     ]
    }
   ],
   "source": [
    "f = open(\"day1.txt\", \"r\")\n",
    "lines = parse.(Int, readlines(f)) # read entire file as vector of Int\n",
    "close(f)\n",
    "\n",
    "len = length(lines)\n",
    "count = 0\n",
    "windowsize = 3\n",
    "for i in 1 : (len - windowsize)\n",
    "    if sum(lines[i+1 : i+windowsize]) > sum(lines[i : i+windowsize-1])\n",
    "        count += 1\n",
    "    end\n",
    "end\n",
    "print(count) # 1418"
   ]
  },
  {
   "cell_type": "code",
   "execution_count": 96,
   "metadata": {},
   "outputs": [
    {
     "data": {
      "text/plain": [
       "1-element Vector{Int64}:\n",
       " 1418"
      ]
     },
     "metadata": {},
     "output_type": "display_data"
    }
   ],
   "source": [
    "f = open(\"day1.txt\", \"r\")\n",
    "lines = parse.(Int, readlines(f)) # read entire file as vector of Int\n",
    "close(f)\n",
    "\n",
    "windowsize = 3\n",
    "\n",
    "# with sum of booleans within list comprehension\n",
    "sum([sum(lines[i+1 : i+windowsize]) > sum(lines[i : i+windowsize-1])] for i in 1 : (length(lines) - windowsize))"
   ]
  },
  {
   "cell_type": "code",
   "execution_count": null,
   "metadata": {},
   "outputs": [],
   "source": []
  }
 ],
 "metadata": {
  "kernelspec": {
   "display_name": "Julia 1.6.3",
   "language": "julia",
   "name": "julia-1.6"
  },
  "language_info": {
   "file_extension": ".jl",
   "mimetype": "application/julia",
   "name": "julia",
   "version": "1.6.3"
  },
  "orig_nbformat": 4
 },
 "nbformat": 4,
 "nbformat_minor": 2
}
