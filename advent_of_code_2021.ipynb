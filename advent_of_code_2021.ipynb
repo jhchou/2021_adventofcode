{
 "cells": [
  {
   "cell_type": "markdown",
   "metadata": {},
   "source": [
    "# Advent of Code 2021\n",
    "\n",
    "## Setup\n",
    "\n",
    "* created new repository on GitHub (public)\n",
    "* created new local folder\n",
    "\n",
    "```\n",
    "    echo \"# 2021_adventofcode\" >> README.md\n",
    "    git init\n",
    "    git add README.md\n",
    "    git commit -m \"first commit\"\n",
    "    git branch -M main\n",
    "    git remote add origin https://github.com/jhchou/2021_adventofcode.git\n",
    "    git push -u origin main\n",
    "```\n",
    "\n",
    "* `Jupyter: Create New Jupyter Notebook`\n",
    "    * selected Julia 1.6.3 for kernel\n",
    "* `Julia: Start REPL`\n",
    "    * start with empty environment\n",
    "    * `] activate .`"
   ]
  },
  {
   "cell_type": "code",
   "execution_count": 1,
   "metadata": {},
   "outputs": [],
   "source": []
  },
  {
   "cell_type": "code",
   "execution_count": null,
   "metadata": {},
   "outputs": [],
   "source": []
  },
  {
   "cell_type": "markdown",
   "metadata": {},
   "source": [
    "## Day 1"
   ]
  },
  {
   "cell_type": "code",
   "execution_count": null,
   "metadata": {},
   "outputs": [],
   "source": []
  }
 ],
 "metadata": {
  "kernelspec": {
   "display_name": "Julia 1.6.3",
   "language": "julia",
   "name": "julia-1.6"
  },
  "language_info": {
   "file_extension": ".jl",
   "mimetype": "application/julia",
   "name": "julia",
   "version": "1.6.3"
  },
  "orig_nbformat": 4
 },
 "nbformat": 4,
 "nbformat_minor": 2
}
