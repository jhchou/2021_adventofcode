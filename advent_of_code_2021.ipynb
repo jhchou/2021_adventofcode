{
 "cells": [
  {
   "cell_type": "markdown",
   "metadata": {},
   "source": [
    "# Advent of Code 2021\n",
    "\n",
    "Registered 2021 with GitHub (jhchou)\n",
    "\n",
    "* [Advent of Code](https://adventofcode.com/)\n",
    "* [Julialang private leaderboard](https://adventofcode.com/2021/leaderboard/private/view/213962)\n",
    "\n",
    "## Setup\n",
    "\n",
    "* created new repository on GitHub (public)\n",
    "* created new local folder\n",
    "\n",
    "```\n",
    "    echo \"# 2021_adventofcode\" >> README.md\n",
    "    git init\n",
    "    git add README.md\n",
    "    git commit -m \"first commit\"\n",
    "    git branch -M main\n",
    "    git remote add origin https://github.com/jhchou/2021_adventofcode.git\n",
    "    git push -u origin main\n",
    "```\n",
    "\n",
    "* `Jupyter: Create New Jupyter Notebook`\n",
    "    * selected Julia 1.6.3 for kernel\n",
    "* `Julia: Start REPL`\n",
    "    * start with empty environment\n",
    "    * `] activate .`"
   ]
  },
  {
   "cell_type": "markdown",
   "metadata": {},
   "source": [
    "## Day 1\n",
    "\n",
    "To do this, count the number of times a depth measurement increases from the previous measurement. (There is no measurement before the first measurement.)"
   ]
  },
  {
   "cell_type": "code",
   "execution_count": 104,
   "metadata": {},
   "outputs": [
    {
     "data": {
      "text/plain": [
       "1374"
      ]
     },
     "metadata": {},
     "output_type": "display_data"
    }
   ],
   "source": [
    "# Clunky solution, reading file line by line\n",
    "\n",
    "lastnum = 99999999\n",
    "count = 0\n",
    "f = open(\"day1.txt\", \"r\")\n",
    "while !eof(f)\n",
    "    line = readline(f)\n",
    "    num = parse(Int, line)\n",
    "    if num > lastnum\n",
    "        count += 1\n",
    "    end\n",
    "    lastnum = num\n",
    "end\n",
    "close(f)\n",
    "count # 1374"
   ]
  },
  {
   "cell_type": "markdown",
   "metadata": {},
   "source": [
    "### Part 2\n",
    "\n",
    "Comparing sums over a sliding window"
   ]
  },
  {
   "cell_type": "code",
   "execution_count": 105,
   "metadata": {},
   "outputs": [
    {
     "data": {
      "text/plain": [
       "1418"
      ]
     },
     "metadata": {},
     "output_type": "display_data"
    }
   ],
   "source": [
    "# Reading all the lines at once into a vector of Int, then looping\n",
    "\n",
    "f = open(\"day1.txt\", \"r\")\n",
    "lines = parse.(Int, readlines(f)) # read entire file as vector of Int\n",
    "close(f)\n",
    "\n",
    "len = length(lines)\n",
    "count = 0\n",
    "windowsize = 3\n",
    "for i in 1 : (len - windowsize)\n",
    "    if sum(lines[i+1 : i+windowsize]) > sum(lines[i : i+windowsize-1])\n",
    "        count += 1\n",
    "    end\n",
    "end\n",
    "count # 1418"
   ]
  },
  {
   "cell_type": "code",
   "execution_count": 235,
   "metadata": {},
   "outputs": [
    {
     "data": {
      "text/plain": [
       "1-element Vector{Int64}:\n",
       " 1418"
      ]
     },
     "metadata": {},
     "output_type": "display_data"
    }
   ],
   "source": [
    "# Simplify reading file into vector of Int, then use sum of booleans on list comprehension\n",
    "\n",
    "lines = parse.(Int, eachline(\"day1.txt\"))\n",
    "windowsize = 3 # 1 for part 1; 3 for part 2\n",
    "sum([sum(lines[i+1 : i+windowsize]) > sum(lines[i : i+windowsize-1])] for i in 1 : (length(lines) - windowsize))"
   ]
  },
  {
   "cell_type": "code",
   "execution_count": 261,
   "metadata": {},
   "outputs": [
    {
     "name": "stdout",
     "output_type": "stream",
     "text": [
      "1374\n",
      "1418\n"
     ]
    }
   ],
   "source": [
    "# With chaining and diff\n",
    "\n",
    "lines = parse.(Int, eachline(\"day1.txt\"))\n",
    "windowsize = 3 # 1 for part 1; 3 for part 2\n",
    "\n",
    "ΣΔ(i) = i |> diff .|> >(0) |> sum |> println\n",
    "\n",
    "ΣΔ(lines) # Part 1\n",
    "\n",
    "blocks = [ sum( lines[i : (i+windowsize-1)] ) for i in 1 : (length(lines) - windowsize + 1) ]\n",
    "ΣΔ(blocks) # Part 2"
   ]
  },
  {
   "cell_type": "markdown",
   "metadata": {},
   "source": [
    "## Day 2"
   ]
  },
  {
   "cell_type": "code",
   "execution_count": null,
   "metadata": {},
   "outputs": [],
   "source": []
  }
 ],
 "metadata": {
  "kernelspec": {
   "display_name": "Julia 1.6.3",
   "language": "julia",
   "name": "julia-1.6"
  },
  "language_info": {
   "file_extension": ".jl",
   "mimetype": "application/julia",
   "name": "julia",
   "version": "1.6.3"
  },
  "orig_nbformat": 4
 },
 "nbformat": 4,
 "nbformat_minor": 2
}
