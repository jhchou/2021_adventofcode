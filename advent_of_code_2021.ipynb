{
 "cells": [
  {
   "cell_type": "markdown",
   "metadata": {},
   "source": [
    "# Advent of Code 2021\n",
    "\n",
    "Registered 2021 with GitHub (jhchou)\n",
    "\n",
    "* [Advent of Code](https://adventofcode.com/)\n",
    "* [Julialang private leaderboard](https://adventofcode.com/2021/leaderboard/private/view/213962)\n",
    "\n",
    "## Setup\n",
    "\n",
    "* created new repository on GitHub (public)\n",
    "* created new local folder\n",
    "\n",
    "```\n",
    "    echo \"# 2021_adventofcode\" >> README.md\n",
    "    git init\n",
    "    git add README.md\n",
    "    git commit -m \"first commit\"\n",
    "    git branch -M main\n",
    "    git remote add origin https://github.com/jhchou/2021_adventofcode.git\n",
    "    git push -u origin main\n",
    "```\n",
    "\n",
    "* `Jupyter: Create New Jupyter Notebook`\n",
    "    * selected Julia 1.6.3 for kernel\n",
    "* `Julia: Start REPL`\n",
    "    * start with empty environment\n",
    "    * `] activate .`"
   ]
  },
  {
   "cell_type": "markdown",
   "metadata": {},
   "source": [
    "## Day 1\n",
    "\n",
    "To do this, count the number of times a depth measurement increases from the previous measurement. (There is no measurement before the first measurement.)"
   ]
  },
  {
   "cell_type": "code",
   "execution_count": 1,
   "metadata": {},
   "outputs": [
    {
     "data": {
      "text/plain": [
       "1374"
      ]
     },
     "metadata": {},
     "output_type": "display_data"
    }
   ],
   "source": [
    "# Clunky solution, reading file line by line\n",
    "\n",
    "lastnum = 99999999\n",
    "count = 0\n",
    "f = open(\"day1.txt\", \"r\")\n",
    "while !eof(f)\n",
    "    line = readline(f)\n",
    "    num = parse(Int, line)\n",
    "    if num > lastnum\n",
    "        count += 1\n",
    "    end\n",
    "    lastnum = num\n",
    "end\n",
    "close(f)\n",
    "count # 1374"
   ]
  },
  {
   "cell_type": "markdown",
   "metadata": {},
   "source": [
    "### Part 2\n",
    "\n",
    "Comparing sums over a sliding window"
   ]
  },
  {
   "cell_type": "code",
   "execution_count": 2,
   "metadata": {},
   "outputs": [
    {
     "data": {
      "text/plain": [
       "1418"
      ]
     },
     "metadata": {},
     "output_type": "display_data"
    }
   ],
   "source": [
    "# Reading all the lines at once into a vector of Int, then looping\n",
    "\n",
    "f = open(\"day1.txt\", \"r\")\n",
    "lines = parse.(Int, readlines(f)) # read entire file as vector of Int\n",
    "close(f)\n",
    "\n",
    "len = length(lines)\n",
    "count = 0\n",
    "windowsize = 3\n",
    "for i in 1 : (len - windowsize)\n",
    "    if sum(lines[i+1 : i+windowsize]) > sum(lines[i : i+windowsize-1])\n",
    "        count += 1\n",
    "    end\n",
    "end\n",
    "count # 1418"
   ]
  },
  {
   "cell_type": "code",
   "execution_count": 3,
   "metadata": {},
   "outputs": [
    {
     "data": {
      "text/plain": [
       "1-element Vector{Int64}:\n",
       " 1418"
      ]
     },
     "metadata": {},
     "output_type": "display_data"
    }
   ],
   "source": [
    "# Simplify reading file into vector of Int, then use sum of booleans on list comprehension\n",
    "\n",
    "lines = parse.(Int, eachline(\"day1.txt\"))\n",
    "windowsize = 3 # 1 for part 1; 3 for part 2\n",
    "sum([sum(lines[i+1 : i+windowsize]) > sum(lines[i : i+windowsize-1])] for i in 1 : (length(lines) - windowsize))"
   ]
  },
  {
   "cell_type": "code",
   "execution_count": 4,
   "metadata": {},
   "outputs": [
    {
     "name": "stdout",
     "output_type": "stream",
     "text": [
      "1374\n",
      "1418\n"
     ]
    }
   ],
   "source": [
    "# With chaining, diff, and >(0)\n",
    "\n",
    "lines = parse.(Int, eachline(\"day1.txt\"))\n",
    "windowsize = 3 # 1 for part 1; 3 for part 2\n",
    "\n",
    "ΣΔ(i) = i |> diff .|> >(0) |> sum |> println\n",
    "\n",
    "ΣΔ(lines) # Part 1\n",
    "\n",
    "blocks = [ sum( lines[i : (i+windowsize-1)] ) for i in 1 : (length(lines) - windowsize + 1) ]\n",
    "ΣΔ(blocks) # Part 2"
   ]
  },
  {
   "cell_type": "markdown",
   "metadata": {},
   "source": [
    "## Day 2\n",
    "\n",
    "### Part 1\n",
    "\n",
    "It seems like the submarine can take a series of commands like forward 1, down 2, or up 3:\n",
    "\n",
    "* forward X increases the horizontal position by X units.\n",
    "* down X increases the depth by X units.\n",
    "* up X decreases the depth by X units.\n",
    "\n",
    "Your horizontal position and depth both start at 0.\n",
    "\n",
    "What do you get if you multiply your final horizontal position by your final depth?"
   ]
  },
  {
   "cell_type": "code",
   "execution_count": 19,
   "metadata": {},
   "outputs": [
    {
     "name": "stdout",
     "output_type": "stream",
     "text": [
      "2102357\n"
     ]
    }
   ],
   "source": [
    "depth = horizontal = 0\n",
    "lines = eachline(\"day2.txt\")\n",
    "for line in lines\n",
    "    m = match(r\"(.+) (\\d+)\", line)\n",
    "    m === nothing && continue\n",
    "    (command, numstring) = m.captures\n",
    "    num = parse(Int, numstring)\n",
    "    if command == \"forward\"\n",
    "        horizontal += num\n",
    "    elseif command == \"down\"\n",
    "        depth += num\n",
    "    elseif command == \"up\"\n",
    "        depth -= num\n",
    "    else\n",
    "        println(\"*** ERROR ***\")\n",
    "    end\n",
    "end\n",
    "println(horizontal * depth) # 2102357"
   ]
  },
  {
   "cell_type": "markdown",
   "metadata": {},
   "source": [
    "### Part 2\n",
    "\n",
    "In addition to horizontal position and depth, you'll also need to track a third value, aim, which also starts at 0. The commands also mean something entirely different than you first thought:\n",
    "\n",
    "* down X increases your aim by X units.\n",
    "* up X decreases your aim by X units.\n",
    "* forward X does two things:\n",
    "    * It increases your horizontal position by X units.\n",
    "    * It increases your depth by your aim multiplied by X.\n"
   ]
  },
  {
   "cell_type": "code",
   "execution_count": 9,
   "metadata": {},
   "outputs": [
    {
     "name": "stdout",
     "output_type": "stream",
     "text": [
      "2101031224\n"
     ]
    }
   ],
   "source": [
    "# Use pipe to avoid intermediary variable\n",
    "\n",
    "depth = aim = horizontal = 0\n",
    "lines = eachline(\"day2.txt\")\n",
    "for line in lines\n",
    "    m = match(r\"(.+) (\\d+)\", line)\n",
    "    m === nothing && continue\n",
    "    (command, num) = m.captures |> captures -> (captures[1], parse(Int, captures[2]))\n",
    "    if command == \"forward\"\n",
    "        horizontal += num\n",
    "        depth += aim * num # added for part 2\n",
    "    elseif command == \"down\"\n",
    "        aim += num # horizontal for part 1\n",
    "    elseif command == \"up\"\n",
    "        aim -= num # horizontal for part 1 \n",
    "    else\n",
    "        println(\"*** ERROR ***\")\n",
    "    end\n",
    "end\n",
    "println(horizontal * depth) # 2101031224"
   ]
  },
  {
   "cell_type": "markdown",
   "metadata": {},
   "source": [
    "## Day 3\n",
    "\n",
    "### Part 1\n",
    "\n",
    "Each bit in the gamma rate can be determined by finding the most common bit in the corresponding position of all numbers in the diagnostic report.\n",
    "\n",
    "The epsilon rate is calculated in a similar way; rather than use the most common bit, the least common bit from each position is used.\n",
    "\n",
    "Use the binary numbers in your diagnostic report to calculate the gamma rate and epsilon rate, then multiply them together. What is the power consumption of the submarine? (Be sure to represent your answer in decimal, not binary.)"
   ]
  },
  {
   "cell_type": "code",
   "execution_count": 33,
   "metadata": {},
   "outputs": [
    {
     "data": {
      "text/plain": [
       "4191876"
      ]
     },
     "metadata": {},
     "output_type": "display_data"
    }
   ],
   "source": [
    "# Avoid reading entire file into memory\n",
    "# - read first line to find number of bits in each line\n",
    "# - track total number of lines and sum of bits in each position\n",
    "\n",
    "# file = \"day3_test.txt\" # 198\n",
    "file = \"day3.txt\" # 4191876\n",
    "\n",
    "f = open(file, \"r\")\n",
    "numbits = length(readline(f))\n",
    "close(f)\n",
    "\n",
    "numlines = 0\n",
    "numones = zeros(Int, numbits)\n",
    "lines = eachline(file)\n",
    "for line in lines\n",
    "    numlines += 1\n",
    "    for (i, char) in enumerate(line)\n",
    "        numones[i] += (char == '1')\n",
    "    end\n",
    "end\n",
    "\n",
    "gamma = epsilon = \"\"\n",
    "for n in numones\n",
    "    n / numlines >= 0.5 ? gamma*=\"1\" : gamma*=\"0\"\n",
    "    n / numlines >= 0.5 ? epsilon*=\"0\" : epsilon*=\"1\"\n",
    "end\n",
    "\n",
    "\n",
    "gammadec = parse(Int, gamma, base = 2)\n",
    "epsilondec = parse(Int, epsilon, base = 2)\n",
    "gammadec * epsilondec"
   ]
  },
  {
   "cell_type": "markdown",
   "metadata": {},
   "source": [
    "### Part 2\n",
    "\n",
    "Successive filtering"
   ]
  },
  {
   "cell_type": "code",
   "execution_count": 45,
   "metadata": {},
   "outputs": [
    {
     "data": {
      "text/plain": [
       "4191876"
      ]
     },
     "metadata": {},
     "output_type": "display_data"
    }
   ],
   "source": [
    "# Avoid reading entire file into memory\n",
    "# - read first line to find number of bits in each line\n",
    "# - track total number of lines and sum of bits in each position\n",
    "\n",
    "# file = \"day3_test.txt\" # 198\n",
    "file = \"day3.txt\" # 4191876\n",
    "\n",
    "function bitcounter(lines)\n",
    "    # take an array of strings, each with a binary\n",
    "    numbits = length(lines[1])\n",
    "    numlines = 0\n",
    "    numones = zeros(Int, numbits)\n",
    "    for line in lines\n",
    "        numlines += 1\n",
    "        for (i, char) in enumerate(line)\n",
    "            numones[i] += (char == '1')\n",
    "        end\n",
    "    end\n",
    "    \n",
    "    gamma = epsilon = \"\"\n",
    "    for n in numones\n",
    "        n / numlines >= 0.5 ? gamma*=\"1\" : gamma*=\"0\"\n",
    "        n / numlines >= 0.5 ? epsilon*=\"0\" : epsilon*=\"1\"\n",
    "    end\n",
    "    \n",
    "    gammadec = parse(Int, gamma, base = 2)\n",
    "    epsilondec = parse(Int, epsilon, base = 2)\n",
    "    return(\n",
    "        numlines = numlines,\n",
    "        numbits = numbits,\n",
    "        numones = numones,\n",
    "        gamma = gamma,\n",
    "        epsilon = epsilon,\n",
    "        prod = gammadec * epsilondec\n",
    "    )\n",
    "end\n",
    "\n",
    "\n",
    "result = bitcounter(readlines(file))\n",
    "result[:prod]\n"
   ]
  },
  {
   "cell_type": "code",
   "execution_count": null,
   "metadata": {},
   "outputs": [],
   "source": []
  }
 ],
 "metadata": {
  "kernelspec": {
   "display_name": "Julia 1.7.0",
   "language": "julia",
   "name": "julia-1.7"
  },
  "language_info": {
   "file_extension": ".jl",
   "mimetype": "application/julia",
   "name": "julia",
   "version": "1.7.0"
  },
  "orig_nbformat": 4
 },
 "nbformat": 4,
 "nbformat_minor": 2
}
